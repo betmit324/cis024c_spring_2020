{
 "cells": [
  {
   "cell_type": "markdown",
   "metadata": {},
   "source": [
    "# Movielens - CIS-24C Movielens Project"
   ]
  },
  {
   "cell_type": "markdown",
   "metadata": {},
   "source": [
    "## Project Description (100 points)\n",
    "\n",
    "In this project you will use the Movielens dataset in order to create a new file that consists of Movie information and their ratings.\n",
    "\n",
    "The files that you need for this project are already included in the project directory.\n",
    "\n",
    "The names of the files are movies.csv and ratings.csv\n",
    "\n",
    "Below is an example of data in the movies.csv file\n",
    "```\n",
    "movieId\ttitle\tgenres\n",
    "1\tToy Story (1995)\tAdventure|Animation|Children|Comedy|Fantasy\n",
    "2\tJumanji (1995)\tAdventure|Children|Fantasy\n",
    "3\tGrumpier Old Men (1995)\tComedy|Romance\n",
    "4\tWaiting to Exhale (1995)\tComedy|Drama|Romance\n",
    "```\n",
    "\n",
    "Below is an examples of data in the ratings.csv file\n",
    "```\n",
    "userId\tmovieId\trating\ttimestamp\n",
    "1\t1\t4.0\t964982703\n",
    "1\t3\t4.0\t964981247\n",
    "1\t6\t4.0\t964982224\n",
    "```\n",
    "\n",
    "\n",
    "Repeat the same for the moviesList object as well.\n",
    "\n",
    "* (20 points) Set up your project by pulling all the related project code and data files from Github and uploading it to your local computer \n",
    "\n",
    "* (20 points) Create a function read_files that will read the contents of both files and store them internally in list objects. This function should return two list of list objects where each internal list is a row from each of the tables. For example, the first list object could be\n",
    "\n",
    "\n",
    "For example the ratingsList would look like the below.\n",
    "```\n",
    "[\n",
    "[1,1,4.0,964982703],\n",
    "[1,3,4.0,964981247],\n",
    "[1,6,4.0,964982224],\n",
    "...\n",
    "]\n",
    "```\n",
    "\n",
    "* (30 points) Write a function merge_contents that will create a new list of list object that merges the contents of the two files.\n",
    "\n",
    "This new list object merged_movies_ratings list would look like the below\n",
    "```\n",
    "[\n",
    "[1,Toy Story (1995),Adventure|Animation|Children|Comedy|Fantasy,4.0],\n",
    "[2,Jumanji (1995),Adventure|Children|Fantasy,3.0],\n",
    ".\n",
    ".\n",
    ".\n",
    "]\n",
    "```\n",
    "\n",
    "** (10 points) Write this out to a csv file called merged_movie_ratings.csv. Your final csv file should look like the below\n",
    "```\n",
    "\n",
    "movieId\ttitle\tgenres\n",
    "1\tToy Story (1995)\tAdventure|Animation|Children|Comedy|Fantasy, 4.0\n",
    "2\tJumanji (1995)\tAdventure|Children|Fantasy, 3.0\n",
    "3\tGrumpier Old Men (1995)\tComedy|Romance, 3.0\n",
    "4\tWaiting to Exhale (1995)\tComedy|Drama|Romance, 2.0\n",
    "\n",
    "```\n",
    "Other Points\n",
    "\n",
    "* 10 points will be awarded for the overall quality of the user interaction. \n",
    "* 10 points will be awarded for the proper use of Python including making sure that he code is optimal.\n"
   ]
  },
  {
   "cell_type": "markdown",
   "metadata": {},
   "source": [
    "## Imports Section"
   ]
  },
  {
   "cell_type": "code",
   "execution_count": null,
   "metadata": {},
   "outputs": [],
   "source": []
  },
  {
   "cell_type": "markdown",
   "metadata": {
    "collapsed": true
   },
   "source": [
    "# Program"
   ]
  },
  {
   "cell_type": "code",
   "execution_count": 1,
   "metadata": {},
   "outputs": [],
   "source": [
    "# <TBD>"
   ]
  },
  {
   "cell_type": "code",
   "execution_count": null,
   "metadata": {},
   "outputs": [],
   "source": []
  }
 ],
 "metadata": {
  "kernelspec": {
   "display_name": "Python 3",
   "language": "python",
   "name": "python3"
  },
  "language_info": {
   "codemirror_mode": {
    "name": "ipython",
    "version": 3
   },
   "file_extension": ".py",
   "mimetype": "text/x-python",
   "name": "python",
   "nbconvert_exporter": "python",
   "pygments_lexer": "ipython3",
   "version": "3.7.4"
  }
 },
 "nbformat": 4,
 "nbformat_minor": 1
}
