{
 "cells": [
  {
   "cell_type": "markdown",
   "metadata": {},
   "source": [
    "# Twitter Project"
   ]
  },
  {
   "cell_type": "code",
   "execution_count": null,
   "metadata": {
    "collapsed": true
   },
   "outputs": [],
   "source": [
    "Write a Python program to use the Twitter library tweepy to retrieve a set of tweets from the internet.\n",
    "\n",
    "More information on how to do this can be found here\n",
    "\n",
    "http://docs.tweepy.org/en/v3.5.0/"
   ]
  },
  {
   "cell_type": "code",
   "execution_count": null,
   "metadata": {
    "collapsed": true
   },
   "outputs": [],
   "source": [
    "### YOUR CODE GOES BELOW\n",
    "\n",
    "#See https://nocodewebscraping.com/twitter-json-examples/\n",
    "# To get keys - https://apps.twitter.com\n",
    "# To install tweepy use 'pip install tweepy'\n",
    "\n",
    "consumer_key = ''\n",
    "consumer_secret = ''\n",
    "access_token = ''\n",
    "access_token_secret = ''\n",
    "\n",
    "import tweepy #https://github.com/tweepy/tweepy\n",
    "import json\n",
    "\n",
    "# This is the listener, resposible for receiving data\n",
    "class StdOutListener(tweepy.StreamListener):\n",
    "    def on_data(self, data):\n",
    "        # Parsing \n",
    "        decoded = json.loads(data)\n",
    "        #open a file to store the status objects\n",
    "        file = open('stream.json', 'wb')  \n",
    "        #write json to file\n",
    "        json.dump(decoded,file,sort_keys = True,indent = 4)\n",
    "        #show progress\n",
    "        print \"Writing tweets to file,CTRL+C to terminate the program\"\n",
    "\n",
    "        return True\n",
    "\n",
    "    def on_error(self, status):\n",
    "        print status\n",
    "\n",
    "if __name__ == '__main__':\n",
    "    l = StdOutListener()\n",
    "    auth = tweepy.OAuthHandler(consumer_key, consumer_secret)\n",
    "    auth.set_access_token(access_token, access_token_secret)\n",
    "\n",
    "    # There are different kinds of streams: public stream, user stream, multi-user streams\n",
    "    # For more details refer to https://dev.twitter.com/docs/streaming-apis\n",
    "    stream = tweepy.Stream(auth, l)\n",
    "    #Hashtag to stream\n",
    "    stream.filter(track=[\"#python\"])\n",
    "\n",
    "### END CODE"
   ]
  }
 ],
 "metadata": {
  "kernelspec": {
   "display_name": "Python 2",
   "language": "python",
   "name": "python2"
  },
  "language_info": {
   "codemirror_mode": {
    "name": "ipython",
    "version": 2
   },
   "file_extension": ".py",
   "mimetype": "text/x-python",
   "name": "python",
   "nbconvert_exporter": "python",
   "pygments_lexer": "ipython2",
   "version": "2.7.12"
  }
 },
 "nbformat": 4,
 "nbformat_minor": 1
}
