{
 "cells": [
  {
   "cell_type": "markdown",
   "metadata": {},
   "source": [
    "## Working with Classes"
   ]
  },
  {
   "cell_type": "code",
   "execution_count": 1,
   "metadata": {},
   "outputs": [
    {
     "name": "stdout",
     "output_type": "stream",
     "text": [
      "Python 3.7.6\r\n"
     ]
    }
   ],
   "source": [
    "!python --version"
   ]
  },
  {
   "cell_type": "markdown",
   "metadata": {},
   "source": [
    "### Difference between the class template and the object"
   ]
  },
  {
   "cell_type": "code",
   "execution_count": 6,
   "metadata": {},
   "outputs": [],
   "source": [
    "class Employee:\n",
    "    pass"
   ]
  },
  {
   "cell_type": "code",
   "execution_count": 16,
   "metadata": {},
   "outputs": [],
   "source": [
    "emp1 = Employee()"
   ]
  },
  {
   "cell_type": "code",
   "execution_count": 17,
   "metadata": {},
   "outputs": [],
   "source": [
    "emp1.first = \"Bob\"\n",
    "emp1.last = \"Hertz\"\n",
    "emp1.salary = 50000"
   ]
  },
  {
   "cell_type": "code",
   "execution_count": 18,
   "metadata": {},
   "outputs": [
    {
     "data": {
      "text/plain": [
       "'Bob'"
      ]
     },
     "execution_count": 18,
     "metadata": {},
     "output_type": "execute_result"
    }
   ],
   "source": [
    "emp1.first"
   ]
  },
  {
   "cell_type": "code",
   "execution_count": 19,
   "metadata": {},
   "outputs": [
    {
     "data": {
      "text/plain": [
       "'Hertz'"
      ]
     },
     "execution_count": 19,
     "metadata": {},
     "output_type": "execute_result"
    }
   ],
   "source": [
    "emp1.last"
   ]
  },
  {
   "cell_type": "code",
   "execution_count": 20,
   "metadata": {},
   "outputs": [
    {
     "data": {
      "text/plain": [
       "50000"
      ]
     },
     "execution_count": 20,
     "metadata": {},
     "output_type": "execute_result"
    }
   ],
   "source": [
    "emp1.salary"
   ]
  },
  {
   "cell_type": "code",
   "execution_count": 21,
   "metadata": {},
   "outputs": [
    {
     "data": {
      "text/plain": [
       "{'first': 'Bob', 'last': 'Hertz', 'salary': 50000}"
      ]
     },
     "execution_count": 21,
     "metadata": {},
     "output_type": "execute_result"
    }
   ],
   "source": [
    "emp1.__dict__"
   ]
  },
  {
   "cell_type": "code",
   "execution_count": 22,
   "metadata": {},
   "outputs": [],
   "source": [
    "emp2 = Employee()\n",
    "\n",
    "emp2.first = \"Bill\"\n",
    "emp2.last = \"Worth\"\n",
    "emp2.salary = 60000"
   ]
  },
  {
   "cell_type": "code",
   "execution_count": 23,
   "metadata": {},
   "outputs": [
    {
     "data": {
      "text/plain": [
       "{'first': 'Bob', 'last': 'Hertz', 'salary': 50000}"
      ]
     },
     "execution_count": 23,
     "metadata": {},
     "output_type": "execute_result"
    }
   ],
   "source": [
    "emp1.__dict__"
   ]
  },
  {
   "cell_type": "code",
   "execution_count": 24,
   "metadata": {},
   "outputs": [
    {
     "data": {
      "text/plain": [
       "{'first': 'Bill', 'last': 'Worth', 'salary': 60000}"
      ]
     },
     "execution_count": 24,
     "metadata": {},
     "output_type": "execute_result"
    }
   ],
   "source": [
    "emp2.__dict__"
   ]
  },
  {
   "cell_type": "code",
   "execution_count": 25,
   "metadata": {},
   "outputs": [
    {
     "data": {
      "text/plain": [
       "mappingproxy({'__module__': '__main__',\n",
       "              '__dict__': <attribute '__dict__' of 'Employee' objects>,\n",
       "              '__weakref__': <attribute '__weakref__' of 'Employee' objects>,\n",
       "              '__doc__': None})"
      ]
     },
     "execution_count": 25,
     "metadata": {},
     "output_type": "execute_result"
    }
   ],
   "source": [
    "Employee.__dict__"
   ]
  },
  {
   "cell_type": "markdown",
   "metadata": {},
   "source": [
    "### How do we make the attributes of Employee part of the class itself"
   ]
  },
  {
   "cell_type": "code",
   "execution_count": 28,
   "metadata": {},
   "outputs": [],
   "source": [
    "class Employee:\n",
    "    \n",
    "    def __init__(self, f, l, s):\n",
    "        self.first = f\n",
    "        self.last = l\n",
    "        self.salary = s\n",
    "        "
   ]
  },
  {
   "cell_type": "code",
   "execution_count": 29,
   "metadata": {},
   "outputs": [],
   "source": [
    "emp1 = Employee(\"Bob\",\"Hertz\",50000)"
   ]
  },
  {
   "cell_type": "code",
   "execution_count": 30,
   "metadata": {},
   "outputs": [
    {
     "data": {
      "text/plain": [
       "{'first': 'Bob', 'last': 'Hertz', 'salary': 50000}"
      ]
     },
     "execution_count": 30,
     "metadata": {},
     "output_type": "execute_result"
    }
   ],
   "source": [
    "emp1.__dict__"
   ]
  },
  {
   "cell_type": "code",
   "execution_count": 31,
   "metadata": {},
   "outputs": [
    {
     "data": {
      "text/plain": [
       "'Bob'"
      ]
     },
     "execution_count": 31,
     "metadata": {},
     "output_type": "execute_result"
    }
   ],
   "source": [
    "emp1.first"
   ]
  },
  {
   "cell_type": "code",
   "execution_count": 32,
   "metadata": {},
   "outputs": [
    {
     "data": {
      "text/plain": [
       "'Hertz'"
      ]
     },
     "execution_count": 32,
     "metadata": {},
     "output_type": "execute_result"
    }
   ],
   "source": [
    "emp1.last"
   ]
  },
  {
   "cell_type": "code",
   "execution_count": 33,
   "metadata": {},
   "outputs": [
    {
     "data": {
      "text/plain": [
       "50000"
      ]
     },
     "execution_count": 33,
     "metadata": {},
     "output_type": "execute_result"
    }
   ],
   "source": [
    "emp1.salary"
   ]
  },
  {
   "cell_type": "markdown",
   "metadata": {},
   "source": [
    "### Creating other class attributes"
   ]
  },
  {
   "cell_type": "code",
   "execution_count": 34,
   "metadata": {},
   "outputs": [],
   "source": [
    "class Employee:\n",
    "    \n",
    "    def __init__(self, f, l, s):\n",
    "        self.first = f\n",
    "        self.last = l\n",
    "        self.salary = s\n",
    "        \n",
    "        self.email = f + \"_\" + l + \"@sjcc.edu\""
   ]
  },
  {
   "cell_type": "code",
   "execution_count": 35,
   "metadata": {},
   "outputs": [],
   "source": [
    "emp1 = Employee(\"Bob\",\"Hertz\",50000)"
   ]
  },
  {
   "cell_type": "code",
   "execution_count": 36,
   "metadata": {},
   "outputs": [
    {
     "data": {
      "text/plain": [
       "{'first': 'Bob',\n",
       " 'last': 'Hertz',\n",
       " 'salary': 50000,\n",
       " 'email': 'Bob_Hertz@sjcc.edu'}"
      ]
     },
     "execution_count": 36,
     "metadata": {},
     "output_type": "execute_result"
    }
   ],
   "source": [
    "emp1.__dict__"
   ]
  },
  {
   "cell_type": "code",
   "execution_count": 37,
   "metadata": {},
   "outputs": [],
   "source": [
    "emp1.dept = \"Computer Science\""
   ]
  },
  {
   "cell_type": "code",
   "execution_count": 38,
   "metadata": {},
   "outputs": [
    {
     "data": {
      "text/plain": [
       "{'first': 'Bob',\n",
       " 'last': 'Hertz',\n",
       " 'salary': 50000,\n",
       " 'email': 'Bob_Hertz@sjcc.edu',\n",
       " 'dept': 'Computer Science'}"
      ]
     },
     "execution_count": 38,
     "metadata": {},
     "output_type": "execute_result"
    }
   ],
   "source": [
    "emp1.__dict__"
   ]
  },
  {
   "cell_type": "code",
   "execution_count": 40,
   "metadata": {},
   "outputs": [],
   "source": [
    "emp2 = Employee(\"Bill\",\"Worth\",60000)"
   ]
  },
  {
   "cell_type": "code",
   "execution_count": 41,
   "metadata": {},
   "outputs": [
    {
     "data": {
      "text/plain": [
       "{'first': 'Bill',\n",
       " 'last': 'Worth',\n",
       " 'salary': 60000,\n",
       " 'email': 'Bill_Worth@sjcc.edu'}"
      ]
     },
     "execution_count": 41,
     "metadata": {},
     "output_type": "execute_result"
    }
   ],
   "source": [
    "emp2.__dict__"
   ]
  },
  {
   "cell_type": "code",
   "execution_count": 42,
   "metadata": {},
   "outputs": [
    {
     "data": {
      "text/plain": [
       "{'first': 'Bob',\n",
       " 'last': 'Hertz',\n",
       " 'salary': 50000,\n",
       " 'email': 'Bob_Hertz@sjcc.edu',\n",
       " 'dept': 'Computer Science'}"
      ]
     },
     "execution_count": 42,
     "metadata": {},
     "output_type": "execute_result"
    }
   ],
   "source": [
    "emp1.__dict__"
   ]
  },
  {
   "cell_type": "markdown",
   "metadata": {},
   "source": [
    "### Making the dept part of the init function"
   ]
  },
  {
   "cell_type": "code",
   "execution_count": 43,
   "metadata": {},
   "outputs": [],
   "source": [
    "class Employee:\n",
    "    \n",
    "    def __init__(self, f, l, s, d):\n",
    "        self.first = f\n",
    "        self.last = l\n",
    "        self.salary = s\n",
    "        self.dept = d\n",
    "        \n",
    "        self.email = f + \"_\" + l + \"@sjcc.edu\""
   ]
  },
  {
   "cell_type": "code",
   "execution_count": 44,
   "metadata": {},
   "outputs": [],
   "source": [
    "emp1 = Employee(\"Bob\",\"Hertz\",50000,\"Math\")"
   ]
  },
  {
   "cell_type": "code",
   "execution_count": 45,
   "metadata": {},
   "outputs": [
    {
     "data": {
      "text/plain": [
       "{'first': 'Bob',\n",
       " 'last': 'Hertz',\n",
       " 'salary': 50000,\n",
       " 'dept': 'Math',\n",
       " 'email': 'Bob_Hertz@sjcc.edu'}"
      ]
     },
     "execution_count": 45,
     "metadata": {},
     "output_type": "execute_result"
    }
   ],
   "source": [
    "emp1.__dict__"
   ]
  },
  {
   "cell_type": "markdown",
   "metadata": {},
   "source": [
    "### Creating functions within the object"
   ]
  },
  {
   "cell_type": "code",
   "execution_count": 56,
   "metadata": {},
   "outputs": [],
   "source": [
    "def print_employee(emp):\n",
    "    \n",
    "    print(\"%-12s %s\" % (\"Name:\", emp.first + \" \" + emp.last))\n",
    "    print(\"%-12s %d\" % (\"Salary:\", emp.salary))\n",
    "    print(\"%-12s %s\" % (\"Department:\", emp.dept))\n",
    "    print(\"%-12s %s\" % (\"Email:\", emp.email))"
   ]
  },
  {
   "cell_type": "code",
   "execution_count": 57,
   "metadata": {},
   "outputs": [
    {
     "name": "stdout",
     "output_type": "stream",
     "text": [
      "Name:        Bob Hertz\n",
      "Salary:      50000\n",
      "Department:  Math\n",
      "Email:       Bob_Hertz@sjcc.edu\n"
     ]
    }
   ],
   "source": [
    "print_employee(emp1)"
   ]
  },
  {
   "cell_type": "code",
   "execution_count": 76,
   "metadata": {},
   "outputs": [],
   "source": [
    "class Employee:\n",
    "    \n",
    "    def __init__(self, f, l, s, d):\n",
    "        self.first = f\n",
    "        self.last = l\n",
    "        self.salary = s\n",
    "        self.dept = d\n",
    "        \n",
    "        self.email = f + \"_\" + l + \"@sjcc.edu\"\n",
    "        \n",
    "    def print(self):\n",
    "    \n",
    "        print(\"%-12s %s\" % (\"Name:\", self.first + \" \" + self.last))\n",
    "        print(\"%-12s %d\" % (\"Salary:\", self.salary))\n",
    "        print(\"%-12s %s\" % (\"Department:\", self.dept))\n",
    "        print(\"%-12s %s\" % (\"Email:\", self.email))\n",
    "        \n",
    "    def __str__(self):\n",
    "        \n",
    "        \n",
    "        retVal =         (\"%-12s %s\" % (\"Name:\", self.first + \" \" + self.last))\n",
    "        retVal += \"\\n\" + (\"%-12s %d\" % (\"Salary:\", self.salary))\n",
    "        retVal += \"\\n\" + (\"%-12s %s\" % (\"Department:\", self.dept))\n",
    "        retVal += \"\\n\" + (\"%-12s %s\" % (\"Email:\", self.email))\n",
    "        \n",
    "        return retVal\n",
    "    \n",
    "    def full_name(self):\n",
    "        \n",
    "        return self.first + \" \" + self.last"
   ]
  },
  {
   "cell_type": "code",
   "execution_count": 77,
   "metadata": {},
   "outputs": [],
   "source": [
    "emp1 = Employee(\"Bob\",\"Hertz\",50000,\"Math\")"
   ]
  },
  {
   "cell_type": "code",
   "execution_count": 69,
   "metadata": {},
   "outputs": [
    {
     "name": "stdout",
     "output_type": "stream",
     "text": [
      "Name:        Bob Hertz\n",
      "Salary:      50000\n",
      "Department:  Math\n",
      "Email:       Bob_Hertz@sjcc.edu\n"
     ]
    }
   ],
   "source": [
    "emp1.print()"
   ]
  },
  {
   "cell_type": "code",
   "execution_count": 70,
   "metadata": {},
   "outputs": [
    {
     "name": "stdout",
     "output_type": "stream",
     "text": [
      "Name:        Bob Hertz\n",
      "Salary:      50000\n",
      "Department:  Math\n",
      "Email:       Bob_Hertz@sjcc.edu\n"
     ]
    }
   ],
   "source": [
    "print(emp1)"
   ]
  },
  {
   "cell_type": "code",
   "execution_count": 71,
   "metadata": {},
   "outputs": [],
   "source": [
    "emp_d = {'name':'Bob','salary':60000}"
   ]
  },
  {
   "cell_type": "code",
   "execution_count": 72,
   "metadata": {},
   "outputs": [
    {
     "data": {
      "text/plain": [
       "{'name': 'Bob', 'salary': 60000}"
      ]
     },
     "execution_count": 72,
     "metadata": {},
     "output_type": "execute_result"
    }
   ],
   "source": [
    "emp_d"
   ]
  },
  {
   "cell_type": "code",
   "execution_count": 73,
   "metadata": {},
   "outputs": [
    {
     "name": "stdout",
     "output_type": "stream",
     "text": [
      "{'name': 'Bob', 'salary': 60000}\n"
     ]
    }
   ],
   "source": [
    "print(emp_d)"
   ]
  },
  {
   "cell_type": "code",
   "execution_count": 78,
   "metadata": {},
   "outputs": [
    {
     "data": {
      "text/plain": [
       "'Bob Hertz'"
      ]
     },
     "execution_count": 78,
     "metadata": {},
     "output_type": "execute_result"
    }
   ],
   "source": [
    "emp1.full_name()"
   ]
  },
  {
   "cell_type": "markdown",
   "metadata": {},
   "source": [
    "### We now want to give our Employees a salary raise"
   ]
  },
  {
   "cell_type": "code",
   "execution_count": 81,
   "metadata": {},
   "outputs": [],
   "source": [
    "class Employee:\n",
    "    \n",
    "    def __init__(self, f, l, s, d):\n",
    "        self.first = f\n",
    "        self.last = l\n",
    "        self.salary = s\n",
    "        self.dept = d\n",
    "        \n",
    "        self.email = f + \"_\" + l + \"@sjcc.edu\"\n",
    "        \n",
    "    def print(self):\n",
    "    \n",
    "        print(\"%-12s %s\" % (\"Name:\", self.first + \" \" + self.last))\n",
    "        print(\"%-12s %d\" % (\"Salary:\", self.salary))\n",
    "        print(\"%-12s %s\" % (\"Department:\", self.dept))\n",
    "        print(\"%-12s %s\" % (\"Email:\", self.email))\n",
    "        \n",
    "    def __str__(self):\n",
    "        \n",
    "        \n",
    "        retVal =         (\"%-12s %s\" % (\"Name:\", self.first + \" \" + self.last))\n",
    "        retVal += \"\\n\" + (\"%-12s %d\" % (\"Salary:\", self.salary))\n",
    "        retVal += \"\\n\" + (\"%-12s %s\" % (\"Department:\", self.dept))\n",
    "        retVal += \"\\n\" + (\"%-12s %s\" % (\"Email:\", self.email))\n",
    "        \n",
    "        return retVal\n",
    "    \n",
    "    def update_salary(self):\n",
    "        \n",
    "        self.salary = self.salary * 1.05\n",
    "    \n",
    "    def full_name(self):\n",
    "        \n",
    "        return self.first + \" \" + self.last"
   ]
  },
  {
   "cell_type": "code",
   "execution_count": 82,
   "metadata": {},
   "outputs": [],
   "source": [
    "emp1 = Employee(\"Bob\",\"Hertz\",50000,\"Math\")"
   ]
  },
  {
   "cell_type": "code",
   "execution_count": 83,
   "metadata": {},
   "outputs": [
    {
     "name": "stdout",
     "output_type": "stream",
     "text": [
      "Name:        Bob Hertz\n",
      "Salary:      50000\n",
      "Department:  Math\n",
      "Email:       Bob_Hertz@sjcc.edu\n"
     ]
    }
   ],
   "source": [
    "emp1.print()"
   ]
  },
  {
   "cell_type": "code",
   "execution_count": 84,
   "metadata": {},
   "outputs": [],
   "source": [
    "emp1.update_salary()"
   ]
  },
  {
   "cell_type": "code",
   "execution_count": 85,
   "metadata": {},
   "outputs": [
    {
     "name": "stdout",
     "output_type": "stream",
     "text": [
      "Name:        Bob Hertz\n",
      "Salary:      52500\n",
      "Department:  Math\n",
      "Email:       Bob_Hertz@sjcc.edu\n"
     ]
    }
   ],
   "source": [
    "emp1.print()"
   ]
  },
  {
   "cell_type": "markdown",
   "metadata": {},
   "source": [
    "### Create a Class variable"
   ]
  },
  {
   "cell_type": "code",
   "execution_count": 93,
   "metadata": {},
   "outputs": [],
   "source": [
    "class Employee:\n",
    "    \n",
    "    rate = 1.05\n",
    "    \n",
    "    def __init__(self, f, l, s, d):\n",
    "        self.first = f\n",
    "        self.last = l\n",
    "        self.salary = s\n",
    "        self.dept = d\n",
    "        \n",
    "        self.email = f + \"_\" + l + \"@sjcc.edu\"\n",
    "        \n",
    "    def print(self):\n",
    "    \n",
    "        print(\"%-12s %s\" % (\"Name:\", self.first + \" \" + self.last))\n",
    "        print(\"%-12s %d\" % (\"Salary:\", self.salary))\n",
    "        print(\"%-12s %s\" % (\"Department:\", self.dept))\n",
    "        print(\"%-12s %s\" % (\"Email:\", self.email))\n",
    "        \n",
    "    def __str__(self):\n",
    "        \n",
    "        \n",
    "        retVal =         (\"%-12s %s\" % (\"Name:\", self.first + \" \" + self.last))\n",
    "        retVal += \"\\n\" + (\"%-12s %d\" % (\"Salary:\", self.salary))\n",
    "        retVal += \"\\n\" + (\"%-12s %s\" % (\"Department:\", self.dept))\n",
    "        retVal += \"\\n\" + (\"%-12s %s\" % (\"Email:\", self.email))\n",
    "        \n",
    "        return retVal\n",
    "    \n",
    "    def update_salary(self):\n",
    "        \n",
    "        self.salary = self.salary * Employee.rate\n",
    "    \n",
    "    def full_name(self):\n",
    "        \n",
    "        return self.first + \" \" + self.last\n",
    "    \n",
    "    @classmethod\n",
    "    def modify_rate(cls,new_rate):\n",
    "        \n",
    "        cls.rate = new_rate\n",
    "    "
   ]
  },
  {
   "cell_type": "code",
   "execution_count": 94,
   "metadata": {},
   "outputs": [],
   "source": [
    "emp1 = Employee(\"Bob\",\"Hertz\",50000,\"Math\")"
   ]
  },
  {
   "cell_type": "code",
   "execution_count": 95,
   "metadata": {},
   "outputs": [],
   "source": [
    "emp1.update_salary()"
   ]
  },
  {
   "cell_type": "code",
   "execution_count": 96,
   "metadata": {},
   "outputs": [
    {
     "name": "stdout",
     "output_type": "stream",
     "text": [
      "Name:        Bob Hertz\n",
      "Salary:      52500\n",
      "Department:  Math\n",
      "Email:       Bob_Hertz@sjcc.edu\n"
     ]
    }
   ],
   "source": [
    "emp1.print()"
   ]
  },
  {
   "cell_type": "code",
   "execution_count": 97,
   "metadata": {},
   "outputs": [],
   "source": [
    "Employee.modify_rate(1.10)"
   ]
  },
  {
   "cell_type": "code",
   "execution_count": 98,
   "metadata": {},
   "outputs": [
    {
     "name": "stdout",
     "output_type": "stream",
     "text": [
      "Name:        Bob Hertz\n",
      "Salary:      52500\n",
      "Department:  Math\n",
      "Email:       Bob_Hertz@sjcc.edu\n"
     ]
    }
   ],
   "source": [
    "emp1.print()"
   ]
  },
  {
   "cell_type": "code",
   "execution_count": 99,
   "metadata": {},
   "outputs": [
    {
     "data": {
      "text/plain": [
       "mappingproxy({'__module__': '__main__',\n",
       "              'rate': 1.1,\n",
       "              '__init__': <function __main__.Employee.__init__(self, f, l, s, d)>,\n",
       "              'print': <function __main__.Employee.print(self)>,\n",
       "              '__str__': <function __main__.Employee.__str__(self)>,\n",
       "              'update_salary': <function __main__.Employee.update_salary(self)>,\n",
       "              'full_name': <function __main__.Employee.full_name(self)>,\n",
       "              'modify_rate': <classmethod at 0x10ae34450>,\n",
       "              '__dict__': <attribute '__dict__' of 'Employee' objects>,\n",
       "              '__weakref__': <attribute '__weakref__' of 'Employee' objects>,\n",
       "              '__doc__': None})"
      ]
     },
     "execution_count": 99,
     "metadata": {},
     "output_type": "execute_result"
    }
   ],
   "source": [
    "Employee.__dict__"
   ]
  },
  {
   "cell_type": "code",
   "execution_count": 100,
   "metadata": {},
   "outputs": [],
   "source": [
    "emp1.update_salary()"
   ]
  },
  {
   "cell_type": "code",
   "execution_count": 101,
   "metadata": {},
   "outputs": [
    {
     "name": "stdout",
     "output_type": "stream",
     "text": [
      "Name:        Bob Hertz\n",
      "Salary:      57750\n",
      "Department:  Math\n",
      "Email:       Bob_Hertz@sjcc.edu\n"
     ]
    }
   ],
   "source": [
    "emp1.print()"
   ]
  },
  {
   "cell_type": "markdown",
   "metadata": {},
   "source": [
    "### Keeping track of the count of employees created"
   ]
  },
  {
   "cell_type": "code",
   "execution_count": 142,
   "metadata": {},
   "outputs": [],
   "source": [
    "class Employee:\n",
    "    \n",
    "    rate = 1.05\n",
    "    count = 0\n",
    "    \n",
    "    def __init__(self, f, l, s, d):\n",
    "        self.first = f\n",
    "        self.last = l\n",
    "        self.salary = float(s)\n",
    "        self.dept = d\n",
    "        \n",
    "        self.email = f + \"_\" + l + \"@sjcc.edu\"\n",
    "        \n",
    "        Employee.count = Employee.count + 1\n",
    "        \n",
    "    def print(self):\n",
    "    \n",
    "        print(\"%-12s %s\" % (\"Name:\", self.first + \" \" + self.last))\n",
    "        print(\"%-12s %f\" % (\"Salary:\", self.salary))\n",
    "        print(\"%-12s %s\" % (\"Department:\", self.dept))\n",
    "        print(\"%-12s %s\" % (\"Email:\", self.email))\n",
    "        \n",
    "    def __str__(self):\n",
    "        \n",
    "        \n",
    "        retVal =         (\"%-12s %s\" % (\"Name:\", self.first + \" \" + self.last))\n",
    "        retVal += \"\\n\" + (\"%-12s %d\" % (\"Salary:\", self.salary))\n",
    "        retVal += \"\\n\" + (\"%-12s %s\" % (\"Department:\", self.dept))\n",
    "        retVal += \"\\n\" + (\"%-12s %s\" % (\"Email:\", self.email))\n",
    "        \n",
    "        return retVal\n",
    "    \n",
    "    def update_salary(self):\n",
    "        \n",
    "        self.salary = self.salary * Employee.rate\n",
    "    \n",
    "    def full_name(self):\n",
    "        \n",
    "        return self.first + \" \" + self.last\n",
    "    \n",
    "    @classmethod\n",
    "    def modify_rate(cls,new_rate):\n",
    "        \n",
    "        cls.rate = new_rate\n",
    "        \n",
    "    @classmethod\n",
    "    def get_count(cls):\n",
    "        \n",
    "        print(\"Total number of employees:\", cls.count)\n",
    "    "
   ]
  },
  {
   "cell_type": "code",
   "execution_count": 143,
   "metadata": {},
   "outputs": [],
   "source": [
    "emp1 = Employee(\"Bob\",\"Hertz\",50000,\"Math\")"
   ]
  },
  {
   "cell_type": "code",
   "execution_count": 127,
   "metadata": {},
   "outputs": [
    {
     "name": "stdout",
     "output_type": "stream",
     "text": [
      "Total number of employees: 13\n"
     ]
    }
   ],
   "source": [
    "Employee.get_count()"
   ]
  },
  {
   "cell_type": "code",
   "execution_count": 128,
   "metadata": {},
   "outputs": [],
   "source": [
    "emp2 = Employee(\"Bill\",\"Worth\",60000,\"Physics\")"
   ]
  },
  {
   "cell_type": "code",
   "execution_count": 140,
   "metadata": {},
   "outputs": [
    {
     "name": "stdout",
     "output_type": "stream",
     "text": [
      "Total number of employees: 20\n"
     ]
    }
   ],
   "source": [
    "Employee.get_count()"
   ]
  },
  {
   "cell_type": "markdown",
   "metadata": {},
   "source": [
    "### Updating salary in an employee file"
   ]
  },
  {
   "cell_type": "code",
   "execution_count": 136,
   "metadata": {},
   "outputs": [],
   "source": [
    "# open the file\n",
    "emp_file = open(\"employees.txt\",encoding='utf-8')\n",
    "\n",
    "# read the employees\n",
    "employees = []\n",
    "for e in emp_file:\n",
    "    f,l,s,d = e.strip().split(',')\n",
    "    \n",
    "    employees.append(Employee(f,l,float(s),d))    \n",
    "    \n",
    "emp_file.close()"
   ]
  },
  {
   "cell_type": "code",
   "execution_count": 137,
   "metadata": {},
   "outputs": [
    {
     "name": "stdout",
     "output_type": "stream",
     "text": [
      "Name:        \"Bob\" \"Hertz\"\n",
      "Salary:      57881\n",
      "Department:  \"Math\"\n",
      "Email:       \"Bob\"_\"Hertz\"@sjcc.edu\n",
      "Name:        \"Bill\" \"Worth\"\n",
      "Salary:      69457\n",
      "Department:  \"Physics\"\n",
      "Email:       \"Bill\"_\"Worth\"@sjcc.edu\n"
     ]
    }
   ],
   "source": [
    "for e in employees:\n",
    "    \n",
    "    e.update_salary()\n",
    "    \n",
    "    e.print()"
   ]
  },
  {
   "cell_type": "code",
   "execution_count": 138,
   "metadata": {},
   "outputs": [],
   "source": [
    "emp_file = open(\"employees.txt\",\"w\", encoding='utf-8')\n",
    "\n",
    "for e in employees:\n",
    "    \n",
    "    emp_file.write(e.first + \",\" + e.last + \",\" + str(e.salary) + \",\" + e.dept + \"\\n\")\n",
    "    \n",
    "emp_file.close()"
   ]
  },
  {
   "cell_type": "code",
   "execution_count": 139,
   "metadata": {},
   "outputs": [
    {
     "name": "stdout",
     "output_type": "stream",
     "text": [
      "\"Bob\",\"Hertz\",57881.25,\"Math\"\r\n",
      "\"Bill\",\"Worth\",69457.5,\"Physics\"\r\n"
     ]
    }
   ],
   "source": [
    "!cat employees.txt"
   ]
  },
  {
   "cell_type": "code",
   "execution_count": null,
   "metadata": {},
   "outputs": [],
   "source": []
  }
 ],
 "metadata": {
  "kernelspec": {
   "display_name": "Python 3",
   "language": "python",
   "name": "python3"
  },
  "language_info": {
   "codemirror_mode": {
    "name": "ipython",
    "version": 3
   },
   "file_extension": ".py",
   "mimetype": "text/x-python",
   "name": "python",
   "nbconvert_exporter": "python",
   "pygments_lexer": "ipython3",
   "version": "3.7.6"
  }
 },
 "nbformat": 4,
 "nbformat_minor": 4
}
