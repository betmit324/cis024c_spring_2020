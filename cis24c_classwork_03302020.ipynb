{
 "cells": [
  {
   "cell_type": "markdown",
   "metadata": {},
   "source": [
    "## Rainy Day Scenario"
   ]
  },
  {
   "cell_type": "code",
   "execution_count": 5,
   "metadata": {},
   "outputs": [
    {
     "name": "stdout",
     "output_type": "stream",
     "text": [
      "Enter the operator (+/-):asdf\n",
      "Enter the operands (comma separated): asdfdasf\n"
     ]
    },
    {
     "name": "stderr",
     "output_type": "stream",
     "text": [
      "ERROR:root:Internal Python error in the inspect module.\n",
      "Below is the traceback from this internal error.\n",
      "\n"
     ]
    },
    {
     "name": "stdout",
     "output_type": "stream",
     "text": [
      "Invalid operands\n",
      "Traceback (most recent call last):\n",
      "  File \"<ipython-input-5-ac6d2b599a69>\", line 13, in <module>\n",
      "    n1,n2 = operands.split(',')\n",
      "ValueError: not enough values to unpack (expected 2, got 1)\n",
      "\n",
      "During handling of the above exception, another exception occurred:\n",
      "\n",
      "Traceback (most recent call last):\n",
      "  File \"/Users/sddorair/opt/anaconda3/lib/python3.7/site-packages/IPython/core/interactiveshell.py\", line 3331, in run_code\n",
      "    exec(code_obj, self.user_global_ns, self.user_ns)\n",
      "  File \"<ipython-input-5-ac6d2b599a69>\", line 18, in <module>\n",
      "    sys.exit(-1)\n",
      "SystemExit: -1\n",
      "\n",
      "During handling of the above exception, another exception occurred:\n",
      "\n",
      "Traceback (most recent call last):\n",
      "  File \"/Users/sddorair/opt/anaconda3/lib/python3.7/site-packages/IPython/core/ultratb.py\", line 1151, in get_records\n",
      "    return _fixed_getinnerframes(etb, number_of_lines_of_context, tb_offset)\n",
      "  File \"/Users/sddorair/opt/anaconda3/lib/python3.7/site-packages/IPython/core/ultratb.py\", line 319, in wrapped\n",
      "    return f(*args, **kwargs)\n",
      "  File \"/Users/sddorair/opt/anaconda3/lib/python3.7/site-packages/IPython/core/ultratb.py\", line 353, in _fixed_getinnerframes\n",
      "    records = fix_frame_records_filenames(inspect.getinnerframes(etb, context))\n",
      "  File \"/Users/sddorair/opt/anaconda3/lib/python3.7/inspect.py\", line 1502, in getinnerframes\n",
      "    frameinfo = (tb.tb_frame,) + getframeinfo(tb, context)\n",
      "AttributeError: 'tuple' object has no attribute 'tb_frame'\n"
     ]
    },
    {
     "ename": "SystemExit",
     "evalue": "-1",
     "output_type": "error",
     "traceback": [
      "An exception has occurred, use %tb to see the full traceback.\n",
      "\u001b[0;31m---------------------------------------------------------------------------\u001b[0m",
      "\nDuring handling of the above exception, another exception occurred:\n",
      "\u001b[0;31mSystemExit\u001b[0m\u001b[0;31m:\u001b[0m -1\n"
     ]
    },
    {
     "name": "stderr",
     "output_type": "stream",
     "text": [
      "/Users/sddorair/opt/anaconda3/lib/python3.7/site-packages/IPython/core/interactiveshell.py:3339: UserWarning: To exit: use 'exit', 'quit', or Ctrl-D.\n",
      "  warn(\"To exit: use 'exit', 'quit', or Ctrl-D.\", stacklevel=1)\n"
     ]
    }
   ],
   "source": [
    "import sys\n",
    "\n",
    "def add(n1,n2):\n",
    "    return n1+n2\n",
    "\n",
    "def subtract(n1,n2):\n",
    "    return n1-n2\n",
    "\n",
    "operator = input(\"Enter the operator (+/-):\")\n",
    "operands = input(\"Enter the operands (comma separated): \")\n",
    "\n",
    "try:\n",
    "    n1,n2 = operands.split(',')\n",
    "    n1 = int(n1)\n",
    "    n2 = int(n2)\n",
    "except:\n",
    "    print(\"Invalid operands\")\n",
    "    sys.exit(-1)\n",
    "\n",
    "if operator == \"+\":\n",
    "    result = add(n1,n2)\n",
    "elif operator == \"-\":\n",
    "    result = subtract(n1,n2)\n",
    "else:\n",
    "    print(\"Invalid Operator\")\n",
    "    sys.exit(-1)\n",
    "    \n",
    "print(\"Operator:\",operator)\n",
    "print(\"Operands:\",operands)\n",
    "print(\"Result:\", result)\n",
    "    "
   ]
  },
  {
   "cell_type": "markdown",
   "metadata": {},
   "source": [
    "## SUNNY DAY SCENARIO"
   ]
  },
  {
   "cell_type": "code",
   "execution_count": null,
   "metadata": {},
   "outputs": [],
   "source": [
    "def add(n1,n2):\n",
    "    return n1+n2\n",
    "\n",
    "def subtract(n1,n2):\n",
    "    return n1-n2\n",
    "\n",
    "operator = input(\"Enter the operator (+/-):\")\n",
    "operands = input(\"Enter the operands (comma separated): \")\n",
    "\n",
    "n1,n2 = operands.split(',')\n",
    "n1 = int(n1)\n",
    "n2 = int(n2)\n",
    "\n",
    "if operator == \"+\":\n",
    "    result = add(n1,n2)\n",
    "elif operator == \"-\":\n",
    "    result = subtract(n1,n2)\n",
    "    \n",
    "print(\"Operator:\",operator)\n",
    "print(\"Operands:\",operands)\n",
    "print(\"Result:\", result)"
   ]
  },
  {
   "cell_type": "markdown",
   "metadata": {},
   "source": [
    "## CREATING A FILE FROM JUPYTER"
   ]
  },
  {
   "cell_type": "code",
   "execution_count": 17,
   "metadata": {},
   "outputs": [
    {
     "name": "stdout",
     "output_type": "stream",
     "text": [
      "Overwriting calc.py\n"
     ]
    }
   ],
   "source": [
    "%%writefile calc.py\n",
    "\n",
    "import add\n",
    "import subtract\n",
    "\n",
    "def calculator():\n",
    "    operator = input(\"Enter the operator (+/-):\")\n",
    "    operands = input(\"Enter the operands (comma separated): \")\n",
    "\n",
    "    n1,n2 = operands.split(',')\n",
    "    n1 = int(n1)\n",
    "    n2 = int(n2)\n",
    "\n",
    "    if operator == \"+\":\n",
    "        result = add.add(n1,n2)\n",
    "    elif operator == \"-\":\n",
    "        result = subtract.subtract(n1,n2)\n",
    "        \n",
    "    print(\"Operator:\",operator)\n",
    "    print(\"Operands:\",operands)\n",
    "    print(\"Result:\", result)\n",
    "\n",
    "if __name__ == \"__main__\":\n",
    "    calculator()"
   ]
  },
  {
   "cell_type": "code",
   "execution_count": 69,
   "metadata": {},
   "outputs": [
    {
     "name": "stdout",
     "output_type": "stream",
     "text": [
      "Overwriting calc_ni.py\n"
     ]
    }
   ],
   "source": [
    "%%writefile calc_ni.py\n",
    "\n",
    "import sys\n",
    "import add\n",
    "import subtract\n",
    "\n",
    "def calculator(operator,operands):\n",
    "\n",
    "    n1,n2 = operands.split(',')\n",
    "    n1 = int(n1)\n",
    "    n2 = int(n2)\n",
    "\n",
    "    if operator == \"+\":\n",
    "        result = add.add(n1,n2)\n",
    "    elif operator == \"-\":\n",
    "        result = subtract.subtract(n1,n2)\n",
    "        \n",
    "    print(\"Operator:\",operator,end=\"***\")\n",
    "    print(\"Operands:\",operands,end=\"***\")\n",
    "    print(\"Result:\", result)\n",
    "\n",
    "if __name__ == \"__main__\":\n",
    "    \n",
    "    operator = sys.argv[1]\n",
    "    operands = sys.argv[2]\n",
    "    \n",
    "    calculator(operator,operands)"
   ]
  },
  {
   "cell_type": "code",
   "execution_count": 42,
   "metadata": {},
   "outputs": [
    {
     "name": "stdout",
     "output_type": "stream",
     "text": [
      "Operator: +***Operands: 2,3***Result: 5\n",
      "Operator: +***Operands: 3,5***Result: 8\n",
      "Operator: +***Operands: 100,200***Result: 300\n"
     ]
    }
   ],
   "source": [
    "!python calc_ni.py + \"2,3\"\n",
    "!python calc_ni.py + \"3,5\"\n",
    "!python calc_ni.py + \"100,200\""
   ]
  },
  {
   "cell_type": "code",
   "execution_count": 61,
   "metadata": {},
   "outputs": [
    {
     "name": "stdout",
     "output_type": "stream",
     "text": [
      "Overwriting user_instructions.txt\n"
     ]
    }
   ],
   "source": [
    "%%writefile user_instructions.txt\n",
    "+ \"2,3\"\n",
    "+ \"3,5\"\n",
    "+ \"100,200\"\n",
    "- \"5,2\"\n",
    "- \"6,3\""
   ]
  },
  {
   "cell_type": "code",
   "execution_count": 62,
   "metadata": {},
   "outputs": [
    {
     "name": "stdout",
     "output_type": "stream",
     "text": [
      "+ \"2,3\"\r\n",
      "+ \"3,5\"\r\n",
      "+ \"100,200\"\r\n",
      "- \"5,2\"\r\n",
      "- \"6,3\"\r\n"
     ]
    }
   ],
   "source": [
    "!cat user_instructions.txt"
   ]
  },
  {
   "cell_type": "code",
   "execution_count": 72,
   "metadata": {},
   "outputs": [
    {
     "name": "stdout",
     "output_type": "stream",
     "text": [
      "Writing master.py\n"
     ]
    }
   ],
   "source": [
    "%%writefile master.py\n",
    "\n",
    "import subprocess\n",
    "\n",
    "instructions_file = open('user_instructions.txt', encoding='utf-8')\n",
    "instructions_file.seek(0)\n",
    "\n",
    "for line in instructions_file:\n",
    "    #print(line.strip())\n",
    "    operator,operands = line.strip().split(\" \")\n",
    "    \n",
    "    cmd = \"python calc_ni.py \" + operator + \" \" + operands\n",
    "\n",
    "    subprocess.run(cmd, shell=True, check=True)\n",
    "    \n",
    "instructions_file.close()\n",
    "    "
   ]
  },
  {
   "cell_type": "code",
   "execution_count": 73,
   "metadata": {},
   "outputs": [
    {
     "name": "stdout",
     "output_type": "stream",
     "text": [
      "/Users/sddorair/Personal/SJCC/cis24c/temp\r\n"
     ]
    }
   ],
   "source": [
    "!pwd"
   ]
  },
  {
   "cell_type": "code",
   "execution_count": 18,
   "metadata": {},
   "outputs": [
    {
     "name": "stdout",
     "output_type": "stream",
     "text": [
      "Overwriting add.py\n"
     ]
    }
   ],
   "source": [
    "%%writefile add.py \n",
    "\n",
    "def add(n1,n2):\n",
    "    return n1+n2\n",
    "\n",
    "def test_add():\n",
    "    print(add(5,3))\n",
    "    \n",
    "if __name__ == \"__main__\":\n",
    "    test_add()"
   ]
  },
  {
   "cell_type": "code",
   "execution_count": 25,
   "metadata": {},
   "outputs": [
    {
     "name": "stdout",
     "output_type": "stream",
     "text": [
      "Overwriting subtract.py\n"
     ]
    }
   ],
   "source": [
    "%%writefile subtract.py \n",
    "\n",
    "def subtract(n1,n2):\n",
    "    return n1-n2\n",
    "\n",
    "def test_subtract():\n",
    "    print(subtract(5,3))\n",
    "    \n",
    "if __name__ == \"__main__\":\n",
    "    test_subtract()"
   ]
  },
  {
   "cell_type": "code",
   "execution_count": 26,
   "metadata": {},
   "outputs": [
    {
     "name": "stdout",
     "output_type": "stream",
     "text": [
      "HW4+Castro.ipynb                 hw4.ipynb\r\n",
      "HW5+Castro.ipynb                 hw4_Connie.ipynb\r\n",
      "Untitled.ipynb                   hw4_henry.ipynb\r\n",
      "Untitled1.ipynb                  hw4_minh_vu.ipynb\r\n",
      "Untitled2.ipynb                  hw5_henry.ipynb\r\n",
      "Untitled3.ipynb                  hw6_yesenia.ipynb\r\n",
      "Untitled4.ipynb                  \u001b[1m\u001b[36mjson\u001b[m\u001b[m\r\n",
      "Untitled5.ipynb                  json2csv.html\r\n",
      "Untitled6.ipynb                  main.py\r\n",
      "Untitled7.ipynb                  scratch.ipynb\r\n",
      "Untitled8.ipynb                  spell.words.txt\r\n",
      "\u001b[1m\u001b[36m__pycache__\u001b[m\u001b[m                      spellcheck.py\r\n",
      "add.py                           \u001b[1m\u001b[36mspelling\u001b[m\u001b[m\r\n",
      "aliceText.txt                    spelling_utils.py\r\n",
      "\u001b[1m\u001b[36massignment_correction\u001b[m\u001b[m            \u001b[1m\u001b[36msplit_files\u001b[m\u001b[m\r\n",
      "calc.py                          srikar_hw5.ipynb\r\n",
      "cis024c_classwork_03232020.ipynb studentinfo.txt\r\n",
      "\u001b[1m\u001b[36mcis24c_0330_spring2020\u001b[m\u001b[m           subtract.py\r\n",
      "cis24c_classwork_03302020.ipynb  temp.json\r\n",
      "\u001b[1m\u001b[36mcis24csummer\u001b[m\u001b[m                     test.py\r\n",
      "combined_file.csv                test001.py\r\n",
      "\u001b[1m\u001b[36mconda\u001b[m\u001b[m                            test002.py\r\n",
      "\u001b[1m\u001b[36melizabethyang\u001b[m\u001b[m                    test_sound_file.wav\r\n",
      "\u001b[1m\u001b[36mfall2017classwork\u001b[m\u001b[m                testhelper.py\r\n",
      "google-10000-english.txt         week4_classwork.ipynb\r\n",
      "hw2.ipynb                        xfile.txt\r\n",
      "hw2_corrections.ipynb\r\n"
     ]
    }
   ],
   "source": [
    "!ls "
   ]
  },
  {
   "cell_type": "code",
   "execution_count": 27,
   "metadata": {},
   "outputs": [
    {
     "name": "stdout",
     "output_type": "stream",
     "text": [
      "8\r\n"
     ]
    }
   ],
   "source": [
    "!python add.py"
   ]
  },
  {
   "cell_type": "code",
   "execution_count": 28,
   "metadata": {},
   "outputs": [
    {
     "name": "stdout",
     "output_type": "stream",
     "text": [
      "2\r\n"
     ]
    }
   ],
   "source": [
    "!python subtract.py"
   ]
  },
  {
   "cell_type": "code",
   "execution_count": 29,
   "metadata": {},
   "outputs": [
    {
     "name": "stdout",
     "output_type": "stream",
     "text": [
      "Enter the operator (+/-):^C\n",
      "Traceback (most recent call last):\n",
      "  File \"calc.py\", line 23, in <module>\n",
      "    calculator()\n",
      "  File \"calc.py\", line 6, in calculator\n",
      "    operator = input(\"Enter the operator (+/-):\")\n",
      "KeyboardInterrupt\n"
     ]
    }
   ],
   "source": [
    "!python calc.py"
   ]
  },
  {
   "cell_type": "code",
   "execution_count": null,
   "metadata": {},
   "outputs": [],
   "source": []
  }
 ],
 "metadata": {
  "kernelspec": {
   "display_name": "Python 3",
   "language": "python",
   "name": "python3"
  },
  "language_info": {
   "codemirror_mode": {
    "name": "ipython",
    "version": 3
   },
   "file_extension": ".py",
   "mimetype": "text/x-python",
   "name": "python",
   "nbconvert_exporter": "python",
   "pygments_lexer": "ipython3",
   "version": "3.7.6"
  }
 },
 "nbformat": 4,
 "nbformat_minor": 4
}
